{
 "cells": [
  {
   "cell_type": "markdown",
   "metadata": {},
   "source": [
    "# Obtenção dos Dados"
   ]
  },
  {
   "cell_type": "markdown",
   "metadata": {},
   "source": [
    "Por conta do limite de tamanho de arquivo do GitHub, disponibilizamos este notebook que baixa os dados diretamente de nossa fonte, bastando executar a célula abaixo."
   ]
  },
  {
   "cell_type": "code",
   "execution_count": 1,
   "metadata": {},
   "outputs": [],
   "source": [
    "!wget ftp://ftp.cdc.noaa.gov/Datasets/icoads/2degree/enh/sst.mean.nc\n",
    "!wget ftp://ftp.cdc.noaa.gov/Datasets/icoads/2degree/enh/rhum.mean.nc\n",
    "!wget ftp://ftp.cdc.noaa.gov/Datasets/icoads/2degree/enh/slp.mean.nc\n",
    "!wget ftp://ftp.cdc.noaa.gov/Datasets/icoads/2degree/enh/vwnd.mean.nc\n",
    "!wget ftp://ftp.cdc.noaa.gov/Datasets/icoads/2degree/enh/wspd.mean.nc\n",
    "!wget ftp://ftp.cdc.noaa.gov/Datasets/icoads/2degree/enh/cldc.mean.nc"
   ]
  }
 ],
 "metadata": {
  "kernelspec": {
   "display_name": "Python 3",
   "language": "python",
   "name": "python3"
  },
  "language_info": {
   "codemirror_mode": {
    "name": "ipython",
    "version": 3
   },
   "file_extension": ".py",
   "mimetype": "text/x-python",
   "name": "python",
   "nbconvert_exporter": "python",
   "pygments_lexer": "ipython3",
   "version": "3.7.6"
  }
 },
 "nbformat": 4,
 "nbformat_minor": 4
}
