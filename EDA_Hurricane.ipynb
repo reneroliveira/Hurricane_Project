{
 "cells": [
  {
   "cell_type": "markdown",
   "metadata": {
    "colab_type": "text",
    "id": "wQ3A3zzY0YHN"
   },
   "source": [
    "# Análise Exploratória de Dados\n"
   ]
  },
  {
   "cell_type": "code",
   "execution_count": null,
   "metadata": {
    "colab": {},
    "colab_type": "code",
    "id": "D8MLVkUB1qrn"
   },
   "outputs": [],
   "source": [
    "!apt-get install libgeos-3.5.0\n",
    "!apt-get install libgeos-dev\n",
    "!pip install https://github.com/matplotlib/basemap/archive/master.zip\n",
    "!pip install pyproj==1.9.6\n",
    "!pip install netCDF4\n",
    "#Rodar essa célula e depois de terminar a execução ir em \"Runtime\"->\"Restart Runtime\""
   ]
  },
  {
   "cell_type": "code",
   "execution_count": null,
   "metadata": {
    "colab": {
     "base_uri": "https://localhost:8080/",
     "height": 35
    },
    "colab_type": "code",
    "id": "nlebLX5u2XQ8",
    "outputId": "6825ad57-56fb-4ceb-fe76-56489a47fbdc"
   },
   "outputs": [
    {
     "name": "stdout",
     "output_type": "stream",
     "text": [
      "/content\n"
     ]
    }
   ],
   "source": [
    "!pwd"
   ]
  },
  {
   "cell_type": "code",
   "execution_count": 1,
   "metadata": {
    "colab": {},
    "colab_type": "code",
    "id": "ruw9GxQR0YHV"
   },
   "outputs": [],
   "source": [
    "%matplotlib inline\n",
    "import numpy as np\n",
    "import matplotlib.pyplot as plt\n",
    "import matplotlib.colors as c\n",
    "from mpl_toolkits.basemap import Basemap,shiftgrid\n",
    "# import pandas as pd\n",
    "import netCDF4 as nc"
   ]
  },
  {
   "cell_type": "code",
   "execution_count": 2,
   "metadata": {
    "colab": {},
    "colab_type": "code",
    "id": "s9XmqBGGcLHW"
   },
   "outputs": [],
   "source": [
    "import pandas as pd"
   ]
  },
  {
   "cell_type": "code",
   "execution_count": 3,
   "metadata": {
    "colab": {},
    "colab_type": "code",
    "id": "MH-W_aD_dMi5"
   },
   "outputs": [],
   "source": [
    "df = pd.read_csv('Datasets/atlantic.csv')\n",
    "df2 = pd.read_csv('Datasets/pacific.csv')\n",
    "# df = df.append(df2)\n",
    "# del df2\n",
    "# df = pd.read_csv('Datasets/atlantic.csv')\n",
    "df.Date = pd.to_datetime(df.Date, format=\"%Y%m%d\")\n",
    "df[\"month\"] = df[\"Date\"].apply(lambda x: x.month)\n",
    "df[\"year\"] = df[\"Date\"].apply(lambda x: x.year)\n",
    "df.Latitude = df.Latitude.apply(lambda x: -float(x.rstrip(\"S\")) if x.endswith(\"S\") else float(x.rstrip(\"N\")))\n",
    "df.Longitude = df.Longitude.apply(lambda x: -float(x.rstrip(\"W\")) if x.endswith(\"W\") else float(x.rstrip(\"E\")))\n",
    "\n",
    "df2.Date = pd.to_datetime(df2.Date, format=\"%Y%m%d\")\n",
    "df2[\"month\"] = df2[\"Date\"].apply(lambda x: x.month)\n",
    "df2[\"year\"] = df2[\"Date\"].apply(lambda x: x.year)\n",
    "df2.Latitude = df2.Latitude.apply(lambda x: -float(x.rstrip(\"S\")) if x.endswith(\"S\") else float(x.rstrip(\"N\")))\n",
    "df2.Longitude = df2.Longitude.apply(lambda x: -float(x.rstrip(\"W\")) if x.endswith(\"W\") else float(x.rstrip(\"E\")))"
   ]
  },
  {
   "cell_type": "markdown",
   "metadata": {
    "colab_type": "text",
    "id": "ClsBNF70QqTG"
   },
   "source": []
  },
  {
   "cell_type": "code",
   "execution_count": 4,
   "metadata": {
    "colab": {
     "base_uri": "https://localhost:8080/",
     "height": 299
    },
    "colab_type": "code",
    "id": "Z211GUZufmYr",
    "outputId": "9318ad26-693f-4675-ee39-11637deae722"
   },
   "outputs": [
    {
     "data": {
      "text/plain": [
       "Text(0.5, 1.0, 'Contagem de tornados por mês no Pacífico')"
      ]
     },
     "execution_count": 4,
     "metadata": {},
     "output_type": "execute_result"
    },
    {
     "data": {
      "image/png": "[encoded data removed]",
      "text/plain": [
       "<Figure size 720x288 with 2 Axes>"
      ]
     },
     "metadata": {
      "needs_background": "light"
     },
     "output_type": "display_data"
    }
   ],
   "source": [
    "fig, axs = plt.subplots(1,2, figsize=(10,4))\n",
    "df.hist('month', ax=axs[0])\n",
    "# plt.hist(df.month, ax=axs[0])\n",
    "axs[0].set_title(\"Contagem de tornados por mês no Atlântico\") #tepo\n",
    "df2.hist('month', ax=axs[1])\n",
    "axs[1].set_title(\"Contagem de tornados por mês no Pacífico\")"
   ]
  },
  {
   "cell_type": "code",
   "execution_count": 6,
   "metadata": {
    "colab": {},
    "colab_type": "code",
    "id": "Y-rWhn4LcE1t"
   },
   "outputs": [],
   "source": [
    "sst_mean = nc.Dataset('Datasets/sst.mean.nc','r')\n",
    "rhum_mean = nc.Dataset('Datasets/rhum.mean.nc','r')\n",
    "wspd_mean = nc.Dataset('Datasets/wspd.mean.nc','r')"
   ]
  },
  {
   "cell_type": "code",
   "execution_count": 7,
   "metadata": {
    "colab": {},
    "colab_type": "code",
    "id": "FxuU6CTVdxzk"
   },
   "outputs": [],
   "source": [
    "x = sst_mean['sst'][:]"
   ]
  },
  {
   "cell_type": "code",
   "execution_count": 8,
   "metadata": {
    "colab": {
     "base_uri": "https://localhost:8080/",
     "height": 384
    },
    "colab_type": "code",
    "id": "OCu6Oxxd6ozx",
    "outputId": "1f8ff1f5-bc35-41a0-e3de-78f8d80f109d"
   },
   "outputs": [
    {
     "data": {
      "text/plain": [
       "<class 'netCDF4._netCDF4.Variable'>\n",
       "int16 rhum(time, lat, lon)\n",
       "    unpacked_valid_range: [  0. 100.]\n",
       "    actual_range: [ 10.8 100. ]\n",
       "    units: %\n",
       "    precision: 1\n",
       "    missing_value: 32766\n",
       "    _FillValue: 32766\n",
       "    long_name: Relative Humidity Monthly Mean at Surface\n",
       "    dataset: ICOADS 2-degree Enhanced\n",
       "    var_desc: Relative Humidity\n",
       "    level_desc: Surface\n",
       "    statistic: Mean\n",
       "    parent_stat: Individual Obs\n",
       "    add_offset: 3276.5\n",
       "    scale_factor: 0.1\n",
       "    valid_range: [-32765 -31765]\n",
       "unlimited dimensions: time\n",
       "current shape = (2647, 90, 180)\n",
       "filling on"
      ]
     },
     "execution_count": 8,
     "metadata": {},
     "output_type": "execute_result"
    }
   ],
   "source": [
    "rhum_mean['rhum']"
   ]
  },
  {
   "cell_type": "code",
   "execution_count": 9,
   "metadata": {
    "colab": {
     "base_uri": "https://localhost:8080/",
     "height": 35
    },
    "colab_type": "code",
    "id": "dOXl7nLR6ZM4",
    "outputId": "af2c2639-6757-4c73-ac4d-bad52edc435c"
   },
   "outputs": [
    {
     "data": {
      "text/plain": [
       "(2647, 90, 180)"
      ]
     },
     "execution_count": 9,
     "metadata": {},
     "output_type": "execute_result"
    }
   ],
   "source": [
    "x.shape"
   ]
  },
  {
   "cell_type": "code",
   "execution_count": 10,
   "metadata": {
    "colab": {
     "base_uri": "https://localhost:8080/",
     "height": 357
    },
    "colab_type": "code",
    "id": "dyXlxYX9ebB9",
    "outputId": "e5dc3a27-48b3-4f8b-fceb-7cac2ac82076"
   },
   "outputs": [
    {
     "data": {
      "text/plain": [
       "(array([ 3.,  3., 12., 20., 30., 36., 32., 23., 30.,  6.]),\n",
       " array([-0.30999756,  0.36400145,  1.0380005 ,  1.7119995 ,  2.3859985 ,\n",
       "         3.0599976 ,  3.7339966 ,  4.4079957 ,  5.0819945 ,  5.755994  ,\n",
       "         6.4299927 ], dtype=float32),\n",
       " <a list of 10 Patch objects>)"
      ]
     },
     "execution_count": 10,
     "metadata": {},
     "output_type": "execute_result"
    },
    {
     "data": {
      "image/png": "[encoded data removed]",
      "text/plain": [
       "<Figure size 432x288 with 1 Axes>"
      ]
     },
     "metadata": {
      "needs_background": "light"
     },
     "output_type": "display_data"
    }
   ],
   "source": [
    "plt.hist(x[:,70, 40][x[:,70, 40].data<20000]) #testes com masked array"
   ]
  }
 ],
 "metadata": {
  "colab": {
   "name": "Copy of EDA_netcdf4_data.ipynb",
   "provenance": []
  },
  "kernelspec": {
   "display_name": "Python 3",
   "language": "python",
   "name": "python3"
  },
  "language_info": {
   "codemirror_mode": {
    "name": "ipython",
    "version": 3
   },
   "file_extension": ".py",
   "mimetype": "text/x-python",
   "name": "python",
   "nbconvert_exporter": "python",
   "pygments_lexer": "ipython3",
   "version": "3.7.6"
  }
 },
 "nbformat": 4,
 "nbformat_minor": 1
}
