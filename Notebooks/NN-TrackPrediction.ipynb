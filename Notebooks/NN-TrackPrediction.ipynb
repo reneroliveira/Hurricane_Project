{
 "cells": [
  {
   "cell_type": "markdown",
   "metadata": {
    "colab_type": "text",
    "id": "g0Wd-YH9hV21"
   },
   "source": [
    "# Redes Neurais para Previsão de Trajetória\n",
    "\n",
    "Neste notebook, usaremos redes neurais para previsão de trajetória futura de uma tempestade. A ideia geral é dado as informações de um furacão de algumas horas atrás e do presente, projetaremos a sua posição futura. "
   ]
  },
  {
   "cell_type": "code",
   "execution_count": 3,
   "metadata": {
    "colab": {
     "base_uri": "https://localhost:8080/",
     "height": 72
    },
    "colab_type": "code",
    "id": "nI_m_oZ-hV26",
    "outputId": "5fda210e-94f4-4905-854e-14bce6a8dde9"
   },
   "outputs": [
    {
     "name": "stderr",
     "output_type": "stream",
     "text": [
      "/usr/local/lib/python3.6/dist-packages/statsmodels/tools/_testing.py:19: FutureWarning: pandas.util.testing is deprecated. Use the functions in the public API at pandas.testing instead.\n",
      "  import pandas.util.testing as tm\n"
     ]
    }
   ],
   "source": [
    "import numpy as np\n",
    "import matplotlib.pyplot as plt\n",
    "import numpy as np\n",
    "import pandas as pd\n",
    "import datetime as dt\n",
    "# from sklearn.model_selection import train_test_split\n",
    "import seaborn as sns\n",
    "sns.set()\n",
    "from sklearn.metrics import r2_score\n",
    "%matplotlib inline"
   ]
  },
  {
   "cell_type": "code",
   "execution_count": 4,
   "metadata": {
    "colab": {
     "base_uri": "https://localhost:8080/",
     "height": 34
    },
    "colab_type": "code",
    "id": "6UJ8EdFXhV3K",
    "outputId": "c1c7bd47-232c-420d-b53d-295756c4b3d3"
   },
   "outputs": [
    {
     "name": "stdout",
     "output_type": "stream",
     "text": [
      "2.3.0\n"
     ]
    }
   ],
   "source": [
    "import tensorflow as tf\n",
    "\n",
    "tf.keras.backend.clear_session()  \n",
    "\n",
    "print(tf.__version__)"
   ]
  },
  {
   "cell_type": "markdown",
   "metadata": {
    "colab_type": "text",
    "id": "cxPcO38fhV3f"
   },
   "source": [
    "## Preparação dos dados\n",
    "\n",
    "Iremos abaixo criar funções para preparar nossos dados para o modelo, e aplicá-las ao dataframe original"
   ]
  },
  {
   "cell_type": "code",
   "execution_count": 5,
   "metadata": {
    "colab": {
     "base_uri": "https://localhost:8080/",
     "height": 104
    },
    "colab_type": "code",
    "id": "a3znNVvihV3h",
    "outputId": "47f97884-36f2-4ae1-afba-26347a983509"
   },
   "outputs": [
    {
     "data": {
      "text/plain": [
       "Index(['ID', 'Name', 'Date', 'Time', 'Event', 'Status', 'Latitude',\n",
       "       'Longitude', 'Maximum Wind', 'Minimum Pressure', 'Date_c', 'Year',\n",
       "       'Month', 'Day', 'Latitude_c', 'Longitude_c', 'Duration', 'sst', 'rhum',\n",
       "       'wspd', 'slp', 'cldc'],\n",
       "      dtype='object')"
      ]
     },
     "execution_count": 5,
     "metadata": {
      "tags": []
     },
     "output_type": "execute_result"
    }
   ],
   "source": [
    "#Leitura dos dados\n",
    "data = pd.read_csv('../Datasets/data_atl_merged2.csv',parse_dates=['Date'])\n",
    "data.columns"
   ]
  },
  {
   "cell_type": "code",
   "execution_count": 6,
   "metadata": {
    "colab": {},
    "colab_type": "code",
    "id": "jFWlsTVHhV3t"
   },
   "outputs": [],
   "source": [
    "## Funções de Padronização e Normalização:\n",
    "def min_max_scale(data,cols):\n",
    "    df = data.copy()\n",
    "    for col in cols:\n",
    "        min_ = df[col].min()\n",
    "        max_ = df[col].max()\n",
    "        df.loc[:,col] = (df[col]-min_)/(max_-min_)\n",
    "    return df[cols]\n",
    "def mim_max_scale_back(scaled,original,cols):\n",
    "    df = scaled.copy()\n",
    "    for col in cols:\n",
    "        min_ = original[col].min()\n",
    "        max_ = original[col].max()\n",
    "        df.loc[:,col] = df[col]*(max_-min_)+min_\n",
    "    return df[cols]\n",
    "def standard_scale(data,cols):\n",
    "    df = data.copy()\n",
    "    for col in cols:\n",
    "        mean = df[col].mean()\n",
    "        std = df[col].std()\n",
    "        df.loc[:,col] = (df[col]-mean)/std\n",
    "    return df[cols]\n",
    "def standard_scale_back(scaled,original,cols):\n",
    "    df = scaled.copy()\n",
    "    for col in cols:\n",
    "        mean = original[col].mean()\n",
    "        std = original[col].std()\n",
    "        df.loc[:,col] = df[col]*std+mean\n",
    "    return df[cols]"
   ]
  },
  {
   "cell_type": "code",
   "execution_count": 7,
   "metadata": {
    "colab": {
     "base_uri": "https://localhost:8080/",
     "height": 34
    },
    "colab_type": "code",
    "id": "yOdyZdXIhV33",
    "outputId": "687f0985-da1f-4ebb-fec7-71578025209e"
   },
   "outputs": [
    {
     "name": "stdout",
     "output_type": "stream",
     "text": [
      "685\n"
     ]
    }
   ],
   "source": [
    "# Função que divide os dados por ID da tempestade\n",
    "def split(df):\n",
    "    st = []\n",
    "    ids = df.ID.unique()\n",
    "    for ID in ids:\n",
    "        st.append(df[df.ID==ID])\n",
    "    return st\n",
    "splitted = split(data)\n",
    "print(len(splitted))"
   ]
  },
  {
   "cell_type": "markdown",
   "metadata": {
    "colab_type": "text",
    "id": "q7LHcgBXhV4C"
   },
   "source": [
    "A função \"clean_data\" formata o preditor Tempo, o convertendo para horas (por padrão, horas após Jan/1951), e padroniza os dados de input.\n",
    "\n",
    "A função \"shift_data\", faz um shift dos dados e dá como saída as matriz tridimensional X e o vetor Y, onde X é composto por matrizes $s\\times n$:\n",
    "\n",
    "$$\\left[\\begin{matrix}\n",
    "x_1^{(t-s+1)} & x_2^{(t-s+1)} & ...& x_n^{(t-s+1)}\\\\\n",
    "x_1^{(t-s+2)} & x_2^{(t-s+2)} & ...& x_n^{(t-s+2)}\\\\\n",
    "\\vdots &\\vdots &\\vdots &\\vdots\\\\\n",
    "x_1^{(t)} & x_2^{(t)} & ...& x_n^{(t)}\\end{matrix}\\right]$$\n",
    "\n",
    "na qual:\n",
    "\n",
    "- $x_1,~x_2, ~..., ~x_n$ representam os $n$ preditores usados (Usaremos 4 inicialmente: tempo latitude, longitude e velocidade de vento)\n",
    "\n",
    "- $x_i^{(k)}$ representa o preditor $i$ no registro de tempo $k$. \n",
    "\n",
    "- $s$ é o parâmetros \"shift\", que representa em quantos períodos passados basearemos a previsão futura. Por padrão, inicialmente, deixamos $s=3$. Como cada registro é espaçado por 6 horas, neste formado estamos usando daados do presente e de 12 horas atrás, pra projetar o dado futuro.\n",
    "\n",
    "Sendo assim, trabalhando com $s=3$ temos que as matrizes de X serão do tipo:\n",
    "\n",
    "$$\\left[\\begin{matrix}\n",
    "x_1^{(t-2)} & x_2^{(t-2)} & ...& x_n^{(t-2)}\\\\\n",
    "x_1^{(t-1)} & x_2^{(t-1)} & ...& x_n^{(t-1)}\\\\\n",
    "x_1^{(t)} & x_2^{(t)} & ...& x_n^{(t)}\\end{matrix}\\right]$$\n",
    "\n",
    "\n",
    "O vetor $Y$ geral é composto por:\n",
    "\n",
    "$$\\left[\\begin{matrix}lat^{(t+1)}&lon^{(t+1)}\\\\\n",
    "lat^{(t+2)}&lon^{(t+2)}\\\\\n",
    "\\vdots & \\vdots\\\\\n",
    "lat^{(t+p)}&lon^{(t+p)}\\end{matrix}\\right]$$\n",
    "\n",
    "na qual:\n",
    "\n",
    "- $lat^{(k)}$ e $lon^{(k)}$ representam latitude e longitude no registro de tempo $k$\n",
    "- $p$ é o parâmetro \"pred\", que diz quantos períodos à frente iremos prever. Por padrão, deixamos $p=1$, assim a matriz se resume em um vetor $[lat^{(t+1)},~ lon^{(t+1)}]$. Usamos previsões de 3 registros passados para prever o próximo registro após o último ponto de treino. Um trabalho futuro seria usar intervalos de previsões maiores, mas vamos nos ater aqui a apenas 1 registro à frete, o que equivale a 6 horas na grande maiorias dos pontos.\n",
    "\n"
   ]
  },
  {
   "cell_type": "code",
   "execution_count": 8,
   "metadata": {
    "colab": {},
    "colab_type": "code",
    "id": "PP98EHhBhV4D"
   },
   "outputs": [],
   "source": [
    "cols1 = ['Hours','Latitude','Longitude','Maximum Wind']\n",
    "data.loc[:,'Time_new']=data.Date+data.Time.map(lambda x: pd.Timedelta(hours=x/100))\n",
    "\n",
    "def clean_data(df,input_cols = cols1, year0 = 1951):\n",
    "    df2 = df.copy()\n",
    "    df2.loc[:,'Hours'] = (df2.loc[:,'Time_new']-pd.Timestamp(year0,1,1))/pd.Timedelta('1 hour')\n",
    "    df2.loc[:,input_cols] = standard_scale(df2,input_cols)\n",
    "    return df2[['ID']+input_cols]\n",
    "\n",
    "def shift_data(df,shift = 3,pred = 1):\n",
    "\n",
    "    x = []\n",
    "    y = []\n",
    "    df = df.set_index(np.arange(0,len(df)))\n",
    "    for i in range(0,len(df)-shift):\n",
    "        x_arr = []\n",
    "        for j in range(i,i+shift):\n",
    "            x_arr.append(df.loc[j,:])\n",
    "        if pred == 1:\n",
    "            y.append(np.array(df.loc[i+shift:i+shift+pred-1,['Latitude','Longitude']]).ravel())\n",
    "        else:\n",
    "            y.append(np.array(df.loc[i+shift:i+shift+pred-1,['Latitude','Longitude']]))\n",
    "        x.append(np.array(x_arr))\n",
    "       \n",
    "    return np.array(x),np.array(y)"
   ]
  },
  {
   "cell_type": "code",
   "execution_count": 9,
   "metadata": {
    "colab": {
     "base_uri": "https://localhost:8080/",
     "height": 300
    },
    "colab_type": "code",
    "id": "kmHNlqWThV4O",
    "outputId": "19014e38-42e6-446f-adc0-02634fd82704"
   },
   "outputs": [
    {
     "data": {
      "text/html": [
       "<div>\n",
       "<style scoped>\n",
       "    .dataframe tbody tr th:only-of-type {\n",
       "        vertical-align: middle;\n",
       "    }\n",
       "\n",
       "    .dataframe tbody tr th {\n",
       "        vertical-align: top;\n",
       "    }\n",
       "\n",
       "    .dataframe thead th {\n",
       "        text-align: right;\n",
       "    }\n",
       "</style>\n",
       "<table border=\"1\" class=\"dataframe\">\n",
       "  <thead>\n",
       "    <tr style=\"text-align: right;\">\n",
       "      <th></th>\n",
       "      <th>Hours</th>\n",
       "      <th>Latitude</th>\n",
       "      <th>Longitude</th>\n",
       "      <th>Maximum Wind</th>\n",
       "    </tr>\n",
       "  </thead>\n",
       "  <tbody>\n",
       "    <tr>\n",
       "      <th>count</th>\n",
       "      <td>2.238600e+04</td>\n",
       "      <td>2.238600e+04</td>\n",
       "      <td>2.238600e+04</td>\n",
       "      <td>2.238600e+04</td>\n",
       "    </tr>\n",
       "    <tr>\n",
       "      <th>mean</th>\n",
       "      <td>-1.312271e-17</td>\n",
       "      <td>3.398752e-15</td>\n",
       "      <td>4.449279e-15</td>\n",
       "      <td>5.249630e-16</td>\n",
       "    </tr>\n",
       "    <tr>\n",
       "      <th>std</th>\n",
       "      <td>1.000000e+00</td>\n",
       "      <td>1.000000e+00</td>\n",
       "      <td>1.000000e+00</td>\n",
       "      <td>1.000000e+00</td>\n",
       "    </tr>\n",
       "    <tr>\n",
       "      <th>min</th>\n",
       "      <td>-1.823465e+00</td>\n",
       "      <td>-1.939104e+00</td>\n",
       "      <td>-2.303286e+00</td>\n",
       "      <td>-1.644750e+00</td>\n",
       "    </tr>\n",
       "    <tr>\n",
       "      <th>25%</th>\n",
       "      <td>-8.725997e-01</td>\n",
       "      <td>-8.005268e-01</td>\n",
       "      <td>-7.741070e-01</td>\n",
       "      <td>-8.529203e-01</td>\n",
       "    </tr>\n",
       "    <tr>\n",
       "      <th>50%</th>\n",
       "      <td>1.595638e-01</td>\n",
       "      <td>-4.466462e-02</td>\n",
       "      <td>-5.884587e-02</td>\n",
       "      <td>-2.590479e-01</td>\n",
       "    </tr>\n",
       "    <tr>\n",
       "      <th>75%</th>\n",
       "      <td>9.229854e-01</td>\n",
       "      <td>6.250867e-01</td>\n",
       "      <td>7.057436e-01</td>\n",
       "      <td>5.327820e-01</td>\n",
       "    </tr>\n",
       "    <tr>\n",
       "      <th>max</th>\n",
       "      <td>1.499554e+00</td>\n",
       "      <td>5.121988e+00</td>\n",
       "      <td>6.195990e+00</td>\n",
       "      <td>4.491932e+00</td>\n",
       "    </tr>\n",
       "  </tbody>\n",
       "</table>\n",
       "</div>"
      ],
      "text/plain": [
       "              Hours      Latitude     Longitude  Maximum Wind\n",
       "count  2.238600e+04  2.238600e+04  2.238600e+04  2.238600e+04\n",
       "mean  -1.312271e-17  3.398752e-15  4.449279e-15  5.249630e-16\n",
       "std    1.000000e+00  1.000000e+00  1.000000e+00  1.000000e+00\n",
       "min   -1.823465e+00 -1.939104e+00 -2.303286e+00 -1.644750e+00\n",
       "25%   -8.725997e-01 -8.005268e-01 -7.741070e-01 -8.529203e-01\n",
       "50%    1.595638e-01 -4.466462e-02 -5.884587e-02 -2.590479e-01\n",
       "75%    9.229854e-01  6.250867e-01  7.057436e-01  5.327820e-01\n",
       "max    1.499554e+00  5.121988e+00  6.195990e+00  4.491932e+00"
      ]
     },
     "execution_count": 9,
     "metadata": {
      "tags": []
     },
     "output_type": "execute_result"
    }
   ],
   "source": [
    "data_cleaned = clean_data(data)\n",
    "data_cleaned.describe()"
   ]
  },
  {
   "cell_type": "markdown",
   "metadata": {
    "colab_type": "text",
    "id": "pDkPG66shV4U"
   },
   "source": [
    "### Treino, Validação e Teste\n",
    "\n",
    "Para formatar os dados de treino, teste e validação, primeiramente, usamos a função \"split\", que separa os dados em uma lista de dataframes onde cada um deles representa uma tempestade diferente.\n",
    "\n",
    "Após isso atribuimos 70% da lista para treino, 20% para validação e 10% para teste. Cada dataframe é devidamente formatado para as matrizes acima usando a função \"shift_data\", e após isso, unimos as matrizes de saída para gerar a numpy array final, do modelo.\n",
    "\n",
    "Se fizéssemos o split diretamente, esse tipo de erro poderia acontecer. Suponha que uma tempestade tem seu último registro em 20 de Agosto em um determinado local, e uma outra tempestade se inicial dia 21 de Agosto em um local totalmente diferente. Um split direto poderia usar o registro de 20 de Agosto para prever o do dia 21, sendo que não há relação entre eles.\n",
    "\n",
    "Essa separação por tempestade é importante para garantir a integridade dos nossos dados de modelagem, de forma que o treinamento seja feito tempestade por tempestade."
   ]
  },
  {
   "cell_type": "code",
   "execution_count": 10,
   "metadata": {
    "colab": {},
    "colab_type": "code",
    "id": "oXoijmGthV4V"
   },
   "outputs": [],
   "source": [
    "def train_val_test_split(df,t=0.7,v=0.2,input_cols=cols1,shift=3,pred=1):\n",
    "    # t = fração de treino\n",
    "    # v = fração de validação\n",
    "    # fração de teste = 1-t-v\n",
    "    # df = dataset já limpo por clean_data\n",
    "    splitted_data = split(df)\n",
    "    # Separamos os dados tempestade por tempestade para \n",
    "    # evitar cruzamento de dados entre eventos diferentes\n",
    "    n = len(splitted_data)\n",
    "    \n",
    "    train_storms = splitted_data[0:int(n*t)]\n",
    "    val_storms = splitted_data[int(n*t):int(n*(t+v))]\n",
    "    test_storms = splitted_data[int(n*(1-t-v)):]\n",
    "    \n",
    "    #Geramos uma lista de matrizes, onde cada lista se refere \n",
    "    #aos dados descocados de uma tempestade diferente\n",
    "    xy_train = [shift_data(train[input_cols],shift,pred) for train in train_storms]\n",
    "    xy_val = [shift_data(val[input_cols],shift,pred) for val in val_storms]\n",
    "    xy_test = [shift_data(test[input_cols],shift,pred) for test in test_storms]\n",
    "    \n",
    "    # Concatenação das matrizes para gerar os dados finais\n",
    "    xtrain = np.concatenate([x[0] for x in xy_train],axis=0)\n",
    "    ytrain = np.concatenate([y[1] for y in xy_train],axis=0)\n",
    "\n",
    "    xval = np.concatenate([x[0] for x in xy_val],axis=0)\n",
    "    yval = np.concatenate([y[1] for y in xy_val],axis=0)\n",
    "\n",
    "    xtest = np.concatenate([x[0] for x in xy_test],axis=0)\n",
    "    ytest = np.concatenate([y[1] for y in xy_test],axis=0)\n",
    "    \n",
    "    return xtrain, ytrain, xval, yval, xtest, ytest"
   ]
  },
  {
   "cell_type": "code",
   "execution_count": 11,
   "metadata": {
    "colab": {
     "base_uri": "https://localhost:8080/",
     "height": 52
    },
    "colab_type": "code",
    "id": "AbWZIg-0hV4d",
    "outputId": "7cbde7d1-5d42-49c6-bcea-b1dec57b9fa5"
   },
   "outputs": [
    {
     "name": "stdout",
     "output_type": "stream",
     "text": [
      "CPU times: user 56.7 s, sys: 39.9 ms, total: 56.8 s\n",
      "Wall time: 56.7 s\n"
     ]
    }
   ],
   "source": [
    "%%time\n",
    "#O processo de split pode ser lento à depender de seu computador\n",
    "xtrain, ytrain, xval, yval, xtest, ytest = train_val_test_split(data_cleaned)\n",
    "\n",
    "xtrain.shape,ytrain.shape,xval.shape,yval.shape,xtest.shape,ytest.shape"
   ]
  },
  {
   "cell_type": "code",
   "execution_count": 12,
   "metadata": {
    "colab": {
     "base_uri": "https://localhost:8080/",
     "height": 52
    },
    "colab_type": "code",
    "id": "v24DDT4LhV4k",
    "outputId": "1869fdea-b644-4a35-a30f-a4fb86778e2d"
   },
   "outputs": [
    {
     "name": "stdout",
     "output_type": "stream",
     "text": [
      "CPU times: user 56.6 s, sys: 90.9 ms, total: 56.7 s\n",
      "Wall time: 56.6 s\n"
     ]
    }
   ],
   "source": [
    "%%time\n",
    "## Modelo que usa sst, rhum, slp e cldc (Temperatura do mar, Umidade, Pressão e Nebulosidade)\n",
    "cols2 = cols1 + ['sst','rhum','slp','cldc']\n",
    "cleaned2 = clean_data(data,cols2)\n",
    "\n",
    "xtrain2, ytrain2, xval2, yval2, xtest2, ytest2 = train_val_test_split(cleaned2,input_cols=cols2)"
   ]
  },
  {
   "cell_type": "code",
   "execution_count": 13,
   "metadata": {
    "colab": {
     "base_uri": "https://localhost:8080/",
     "height": 34
    },
    "colab_type": "code",
    "id": "uWDkaXdfhV4u",
    "outputId": "dec1ed88-1e2f-402b-ed30-1beb7efe0a1a"
   },
   "outputs": [
    {
     "data": {
      "text/plain": [
       "(14010, 3, 8)"
      ]
     },
     "execution_count": 13,
     "metadata": {
      "tags": []
     },
     "output_type": "execute_result"
    }
   ],
   "source": [
    "xtrain2.shape"
   ]
  },
  {
   "cell_type": "markdown",
   "metadata": {
    "colab_type": "text",
    "id": "AgAW5ZFPhV43"
   },
   "source": [
    "## Modelos - Redes Neurais\n",
    "\n",
    "Vamos criar alguns modelos determinísticos e depois comparar a médias dos erros ao quadrado (MSE) nos dados de validação e teste. (Uma espécie de cross-validation).\n",
    "\n",
    "Segundo os artigos na qual usamos como referência (Veja Bibliografia), apenas uma camada interna é suficiente. Resta saber quantos neurônios usar, para isso avaliaremos os modelos com 3, 6, e 9 neurônios internos.\n",
    "\n",
    "Usaremos a função de ativação sigmoid na camada interna. e linear na camada de output, já que os dados de saída são numéricos contínuos. Usamos também uma camada de dropout de 15% para evitar overfitting.\n",
    "\n",
    "Após eleger o melhor, incluiremos um fator probabilístico para gerar intervalos de confianças nas predições.\n",
    "\n",
    "__Índice de Modelos__\n",
    "\n",
    "- _Model_ihj_  --> Modelo com entrada de $i$ variáveis, $h$ neurônios na camada interna e $j$ pontos de saída (no nosso caso $j=2$ sempre)\n",
    "\n",
    "- _Model_4h2_ --> Modelo que usa as variáveis Tempo, Latitude, Longitude e Velocidame Máxima de Vento (4 variáveis) de três registros passados para prever a Latitude e Longitude do próximo registro (2 saídas) usando $h$ neurônios na camada interna. Aqui geraremos 3 modelos para os valores de h sendo 3, 6 e 9.\n",
    "\n",
    "- _Model_8h2_ --> Modelo similar ao anterior, porém utiliza quatro variáveis a mais como entrada: sst, rhum, slp, cldc; Representando Temperatura a nível do mar, Umidade, Pressão a nível do mar e Cobertura de Nuvens."
   ]
  },
  {
   "cell_type": "code",
   "execution_count": 14,
   "metadata": {
    "colab": {},
    "colab_type": "code",
    "id": "wxRgJRHZhV43"
   },
   "outputs": [],
   "source": [
    "# Modelos tipo 4h2\n",
    "model_432 = tf.keras.models.Sequential([\n",
    "  tf.keras.layers.Flatten(input_shape=(3,4)),\n",
    "  tf.keras.layers.Dense(3, activation='sigmoid'),\n",
    "  tf.keras.layers.Dropout(0.15),\n",
    "  tf.keras.layers.Dense(2, activation='linear')\n",
    "])\n",
    "\n",
    "model_462 = tf.keras.models.Sequential([\n",
    "  tf.keras.layers.Flatten(input_shape=(3,4)),\n",
    "  tf.keras.layers.Dense(6, activation='sigmoid'),\n",
    "  tf.keras.layers.Dropout(0.15),\n",
    "  tf.keras.layers.Dense(2, activation='linear')\n",
    "])\n",
    "\n",
    "model_492 = tf.keras.models.Sequential([\n",
    "  tf.keras.layers.Flatten(input_shape=(3,4)),\n",
    "  tf.keras.layers.Dense(9, activation='sigmoid'),\n",
    "  tf.keras.layers.Dropout(0.15),\n",
    "  tf.keras.layers.Dense(2, activation='linear')\n",
    "])\n"
   ]
  },
  {
   "cell_type": "code",
   "execution_count": 15,
   "metadata": {
    "colab": {},
    "colab_type": "code",
    "id": "3U9a3upphV5D"
   },
   "outputs": [],
   "source": [
    "# Modelos tipo 8h2\n",
    "model_832 = tf.keras.models.Sequential([\n",
    "  tf.keras.layers.Flatten(input_shape=(3,8)),\n",
    "  tf.keras.layers.Dense(3, activation='sigmoid'),\n",
    "  tf.keras.layers.Dropout(0.15),\n",
    "  tf.keras.layers.Dense(2, activation='linear')\n",
    "])\n",
    "\n",
    "model_862 = tf.keras.models.Sequential([\n",
    "  tf.keras.layers.Flatten(input_shape=(3,8)),\n",
    "  tf.keras.layers.Dense(6, activation='sigmoid'),\n",
    "  tf.keras.layers.Dropout(0.15),\n",
    "  tf.keras.layers.Dense(2, activation='linear')\n",
    "])\n",
    "\n",
    "model_892 = tf.keras.models.Sequential([\n",
    "  tf.keras.layers.Flatten(input_shape=(3,8)),\n",
    "  tf.keras.layers.Dense(9, activation='sigmoid'),\n",
    "  tf.keras.layers.Dropout(0.15),\n",
    "  tf.keras.layers.Dense(2, activation='linear')\n",
    "])\n"
   ]
  },
  {
   "cell_type": "code",
   "execution_count": 16,
   "metadata": {
    "colab": {
     "base_uri": "https://localhost:8080/",
     "height": 295
    },
    "colab_type": "code",
    "id": "_WibKo4WhV5J",
    "outputId": "85247fc3-465a-45eb-c5ed-18d3c38f8cdd"
   },
   "outputs": [
    {
     "name": "stdout",
     "output_type": "stream",
     "text": [
      "Model: \"sequential\"\n",
      "_________________________________________________________________\n",
      "Layer (type)                 Output Shape              Param #   \n",
      "=================================================================\n",
      "flatten (Flatten)            (None, 12)                0         \n",
      "_________________________________________________________________\n",
      "dense (Dense)                (None, 3)                 39        \n",
      "_________________________________________________________________\n",
      "dropout (Dropout)            (None, 3)                 0         \n",
      "_________________________________________________________________\n",
      "dense_1 (Dense)              (None, 2)                 8         \n",
      "=================================================================\n",
      "Total params: 47\n",
      "Trainable params: 47\n",
      "Non-trainable params: 0\n",
      "_________________________________________________________________\n"
     ]
    }
   ],
   "source": [
    "loss_fn = tf.keras.losses.MeanSquaredError()\n",
    "optimizer = tf.keras.optimizers.Adam()\n",
    "\n",
    "model_432.compile(optimizer=optimizer,\n",
    "              loss=loss_fn)\n",
    "model_462.compile(optimizer=optimizer,\n",
    "              loss=loss_fn)\n",
    "model_492.compile(optimizer=optimizer,\n",
    "              loss=loss_fn)\n",
    "model_832.compile(optimizer=optimizer,\n",
    "              loss=loss_fn)\n",
    "model_862.compile(optimizer=optimizer,\n",
    "              loss=loss_fn)\n",
    "model_892.compile(optimizer=optimizer,\n",
    "              loss=loss_fn)\n",
    "model_432.summary()"
   ]
  },
  {
   "cell_type": "code",
   "execution_count": 17,
   "metadata": {
    "colab": {
     "base_uri": "https://localhost:8080/",
     "height": 1000
    },
    "colab_type": "code",
    "id": "pWgBKqM1hV5p",
    "outputId": "328ef5ea-bf89-46c5-d5d4-b6b4a3eb35df"
   },
   "outputs": [
    {
     "name": "stdout",
     "output_type": "stream",
     "text": [
      "Epoch 1/45\n",
      "438/438 [==============================] - 1s 1ms/step - loss: 0.2730 - val_loss: 0.0672\n",
      "Epoch 2/45\n",
      "438/438 [==============================] - 1s 1ms/step - loss: 0.1533 - val_loss: 0.0552\n",
      "Epoch 3/45\n",
      "438/438 [==============================] - 1s 1ms/step - loss: 0.1363 - val_loss: 0.0472\n",
      "Epoch 4/45\n",
      "438/438 [==============================] - 1s 1ms/step - loss: 0.1216 - val_loss: 0.0384\n",
      "Epoch 5/45\n",
      "438/438 [==============================] - 1s 1ms/step - loss: 0.1126 - val_loss: 0.0314\n",
      "Epoch 6/45\n",
      "438/438 [==============================] - 1s 1ms/step - loss: 0.1063 - val_loss: 0.0260\n",
      "Epoch 7/45\n",
      "438/438 [==============================] - 1s 1ms/step - loss: 0.1021 - val_loss: 0.0214\n",
      "Epoch 8/45\n",
      "438/438 [==============================] - 1s 1ms/step - loss: 0.0981 - val_loss: 0.0186\n",
      "Epoch 9/45\n",
      "438/438 [==============================] - 1s 1ms/step - loss: 0.0928 - val_loss: 0.0171\n",
      "Epoch 10/45\n",
      "438/438 [==============================] - 1s 1ms/step - loss: 0.0903 - val_loss: 0.0162\n",
      "Epoch 11/45\n",
      "438/438 [==============================] - 1s 1ms/step - loss: 0.0925 - val_loss: 0.0149\n",
      "Epoch 12/45\n",
      "438/438 [==============================] - 1s 1ms/step - loss: 0.0869 - val_loss: 0.0146\n",
      "Epoch 13/45\n",
      "438/438 [==============================] - 1s 1ms/step - loss: 0.0860 - val_loss: 0.0145\n",
      "Epoch 14/45\n",
      "438/438 [==============================] - 1s 1ms/step - loss: 0.0849 - val_loss: 0.0148\n",
      "Epoch 15/45\n",
      "438/438 [==============================] - 1s 1ms/step - loss: 0.0817 - val_loss: 0.0149\n",
      "Epoch 16/45\n",
      "438/438 [==============================] - 1s 1ms/step - loss: 0.0850 - val_loss: 0.0146\n",
      "Epoch 17/45\n",
      "438/438 [==============================] - 1s 1ms/step - loss: 0.0854 - val_loss: 0.0140\n",
      "Epoch 18/45\n",
      "438/438 [==============================] - 1s 1ms/step - loss: 0.0843 - val_loss: 0.0152\n",
      "Epoch 19/45\n",
      "438/438 [==============================] - 1s 1ms/step - loss: 0.0831 - val_loss: 0.0145\n",
      "Epoch 20/45\n",
      "438/438 [==============================] - 1s 1ms/step - loss: 0.0820 - val_loss: 0.0147\n",
      "Epoch 21/45\n",
      "438/438 [==============================] - 1s 1ms/step - loss: 0.0854 - val_loss: 0.0145\n",
      "Epoch 22/45\n",
      "438/438 [==============================] - 1s 1ms/step - loss: 0.0846 - val_loss: 0.0132\n",
      "Epoch 23/45\n",
      "438/438 [==============================] - 1s 1ms/step - loss: 0.0846 - val_loss: 0.0139\n",
      "Epoch 24/45\n",
      "438/438 [==============================] - 1s 1ms/step - loss: 0.0833 - val_loss: 0.0150\n",
      "Epoch 25/45\n",
      "438/438 [==============================] - 1s 1ms/step - loss: 0.0814 - val_loss: 0.0153\n",
      "Epoch 26/45\n",
      "438/438 [==============================] - 1s 1ms/step - loss: 0.0838 - val_loss: 0.0142\n",
      "Epoch 27/45\n",
      "438/438 [==============================] - 1s 1ms/step - loss: 0.0815 - val_loss: 0.0151\n",
      "Epoch 28/45\n",
      "438/438 [==============================] - 1s 1ms/step - loss: 0.0795 - val_loss: 0.0135\n",
      "Epoch 29/45\n",
      "438/438 [==============================] - 1s 1ms/step - loss: 0.0841 - val_loss: 0.0139\n",
      "Epoch 30/45\n",
      "438/438 [==============================] - 1s 1ms/step - loss: 0.0834 - val_loss: 0.0140\n",
      "Epoch 31/45\n",
      "438/438 [==============================] - 1s 1ms/step - loss: 0.0846 - val_loss: 0.0133\n",
      "Epoch 32/45\n",
      "438/438 [==============================] - 1s 1ms/step - loss: 0.0819 - val_loss: 0.0138\n",
      "Epoch 33/45\n",
      "438/438 [==============================] - 1s 1ms/step - loss: 0.0815 - val_loss: 0.0139\n",
      "Epoch 34/45\n",
      "438/438 [==============================] - 1s 1ms/step - loss: 0.0819 - val_loss: 0.0147\n",
      "Epoch 35/45\n",
      "438/438 [==============================] - 1s 1ms/step - loss: 0.0829 - val_loss: 0.0129\n",
      "Epoch 36/45\n",
      "438/438 [==============================] - 1s 1ms/step - loss: 0.0838 - val_loss: 0.0130\n",
      "Epoch 37/45\n",
      "438/438 [==============================] - 1s 1ms/step - loss: 0.0832 - val_loss: 0.0134\n",
      "Epoch 38/45\n",
      "438/438 [==============================] - 1s 1ms/step - loss: 0.0800 - val_loss: 0.0132\n",
      "Epoch 39/45\n",
      "438/438 [==============================] - 1s 1ms/step - loss: 0.0816 - val_loss: 0.0128\n",
      "Epoch 40/45\n",
      "438/438 [==============================] - 1s 1ms/step - loss: 0.0814 - val_loss: 0.0129\n",
      "Epoch 41/45\n",
      "438/438 [==============================] - 1s 1ms/step - loss: 0.0811 - val_loss: 0.0139\n",
      "Epoch 42/45\n",
      "438/438 [==============================] - 1s 1ms/step - loss: 0.0802 - val_loss: 0.0142\n",
      "Epoch 43/45\n",
      "438/438 [==============================] - 1s 1ms/step - loss: 0.0790 - val_loss: 0.0140\n",
      "Epoch 44/45\n",
      "438/438 [==============================] - 1s 1ms/step - loss: 0.0802 - val_loss: 0.0144\n",
      "Epoch 45/45\n",
      "438/438 [==============================] - 1s 1ms/step - loss: 0.0795 - val_loss: 0.0124\n",
      "CPU times: user 1min 9s, sys: 6.27 s, total: 1min 16s\n",
      "Wall time: 58.9 s\n"
     ]
    }
   ],
   "source": [
    "%%time\n",
    "\n",
    "history_432 = model_432.fit(xtrain, ytrain, validation_data=(xval,yval), epochs=45, \n",
    "                    verbose=0)\n",
    "history_462 = model_462.fit(xtrain, ytrain, validation_data=(xval,yval), epochs=45, \n",
    "                    verbose=0)\n",
    "history_492 = model_492.fit(xtrain, ytrain, validation_data=(xval,yval), epochs=45, \n",
    "                    verbose=1)\n"
   ]
  },
  {
   "cell_type": "code",
   "execution_count": 18,
   "metadata": {
    "colab": {
     "base_uri": "https://localhost:8080/",
     "height": 1000
    },
    "colab_type": "code",
    "id": "dYA4VobohV7Q",
    "outputId": "0388095f-738d-4d51-99cb-36742e21cb9d"
   },
   "outputs": [
    {
     "name": "stdout",
     "output_type": "stream",
     "text": [
      "Epoch 1/45\n",
      "438/438 [==============================] - 1s 1ms/step - loss: 0.2866 - val_loss: 0.0705\n",
      "Epoch 2/45\n",
      "438/438 [==============================] - 0s 1ms/step - loss: 0.1502 - val_loss: 0.0557\n",
      "Epoch 3/45\n",
      "438/438 [==============================] - 0s 1ms/step - loss: 0.1358 - val_loss: 0.0487\n",
      "Epoch 4/45\n",
      "438/438 [==============================] - 0s 1ms/step - loss: 0.1260 - val_loss: 0.0413\n",
      "Epoch 5/45\n",
      "438/438 [==============================] - 0s 1ms/step - loss: 0.1158 - val_loss: 0.0338\n",
      "Epoch 6/45\n",
      "438/438 [==============================] - 1s 1ms/step - loss: 0.1067 - val_loss: 0.0282\n",
      "Epoch 7/45\n",
      "438/438 [==============================] - 1s 1ms/step - loss: 0.1013 - val_loss: 0.0243\n",
      "Epoch 8/45\n",
      "438/438 [==============================] - 1s 1ms/step - loss: 0.0972 - val_loss: 0.0201\n",
      "Epoch 9/45\n",
      "438/438 [==============================] - 1s 1ms/step - loss: 0.0939 - val_loss: 0.0181\n",
      "Epoch 10/45\n",
      "438/438 [==============================] - 1s 1ms/step - loss: 0.0884 - val_loss: 0.0181\n",
      "Epoch 11/45\n",
      "438/438 [==============================] - 1s 1ms/step - loss: 0.0871 - val_loss: 0.0155\n",
      "Epoch 12/45\n",
      "438/438 [==============================] - 1s 1ms/step - loss: 0.0871 - val_loss: 0.0155\n",
      "Epoch 13/45\n",
      "438/438 [==============================] - 1s 1ms/step - loss: 0.0870 - val_loss: 0.0156\n",
      "Epoch 14/45\n",
      "438/438 [==============================] - 1s 1ms/step - loss: 0.0825 - val_loss: 0.0153\n",
      "Epoch 15/45\n",
      "438/438 [==============================] - 1s 1ms/step - loss: 0.0836 - val_loss: 0.0136\n",
      "Epoch 16/45\n",
      "438/438 [==============================] - 1s 1ms/step - loss: 0.0851 - val_loss: 0.0156\n",
      "Epoch 17/45\n",
      "438/438 [==============================] - 0s 1ms/step - loss: 0.0850 - val_loss: 0.0149\n",
      "Epoch 18/45\n",
      "438/438 [==============================] - 1s 1ms/step - loss: 0.0868 - val_loss: 0.0147\n",
      "Epoch 19/45\n",
      "438/438 [==============================] - 1s 1ms/step - loss: 0.0823 - val_loss: 0.0154\n",
      "Epoch 20/45\n",
      "438/438 [==============================] - 0s 1ms/step - loss: 0.0802 - val_loss: 0.0132\n",
      "Epoch 21/45\n",
      "438/438 [==============================] - 0s 1ms/step - loss: 0.0807 - val_loss: 0.0158\n",
      "Epoch 22/45\n",
      "438/438 [==============================] - 0s 1ms/step - loss: 0.0826 - val_loss: 0.0151\n",
      "Epoch 23/45\n",
      "438/438 [==============================] - 1s 1ms/step - loss: 0.0820 - val_loss: 0.0134\n",
      "Epoch 24/45\n",
      "438/438 [==============================] - 0s 1ms/step - loss: 0.0827 - val_loss: 0.0128\n",
      "Epoch 25/45\n",
      "438/438 [==============================] - 0s 1ms/step - loss: 0.0831 - val_loss: 0.0125\n",
      "Epoch 26/45\n",
      "438/438 [==============================] - 0s 1ms/step - loss: 0.0834 - val_loss: 0.0138\n",
      "Epoch 27/45\n",
      "438/438 [==============================] - 0s 1ms/step - loss: 0.0816 - val_loss: 0.0141\n",
      "Epoch 28/45\n",
      "438/438 [==============================] - 0s 1ms/step - loss: 0.0805 - val_loss: 0.0137\n",
      "Epoch 29/45\n",
      "438/438 [==============================] - 1s 1ms/step - loss: 0.0817 - val_loss: 0.0142\n",
      "Epoch 30/45\n",
      "438/438 [==============================] - 0s 1ms/step - loss: 0.0807 - val_loss: 0.0139\n",
      "Epoch 31/45\n",
      "438/438 [==============================] - 0s 1ms/step - loss: 0.0806 - val_loss: 0.0133\n",
      "Epoch 32/45\n",
      "438/438 [==============================] - 0s 1ms/step - loss: 0.0823 - val_loss: 0.0131\n",
      "Epoch 33/45\n",
      "438/438 [==============================] - 0s 1ms/step - loss: 0.0814 - val_loss: 0.0137\n",
      "Epoch 34/45\n",
      "438/438 [==============================] - 0s 1ms/step - loss: 0.0804 - val_loss: 0.0134\n",
      "Epoch 35/45\n",
      "438/438 [==============================] - 0s 1ms/step - loss: 0.0811 - val_loss: 0.0131\n",
      "Epoch 36/45\n",
      "438/438 [==============================] - 0s 1ms/step - loss: 0.0798 - val_loss: 0.0141\n",
      "Epoch 37/45\n",
      "438/438 [==============================] - 0s 1ms/step - loss: 0.0793 - val_loss: 0.0130\n",
      "Epoch 38/45\n",
      "438/438 [==============================] - 0s 1ms/step - loss: 0.0830 - val_loss: 0.0120\n",
      "Epoch 39/45\n",
      "438/438 [==============================] - 0s 1ms/step - loss: 0.0812 - val_loss: 0.0127\n",
      "Epoch 40/45\n",
      "438/438 [==============================] - 0s 1ms/step - loss: 0.0816 - val_loss: 0.0123\n",
      "Epoch 41/45\n",
      "438/438 [==============================] - 0s 1ms/step - loss: 0.0803 - val_loss: 0.0129\n",
      "Epoch 42/45\n",
      "438/438 [==============================] - 0s 1ms/step - loss: 0.0791 - val_loss: 0.0124\n",
      "Epoch 43/45\n",
      "438/438 [==============================] - 0s 1ms/step - loss: 0.0789 - val_loss: 0.0125\n",
      "Epoch 44/45\n",
      "438/438 [==============================] - 0s 1ms/step - loss: 0.0801 - val_loss: 0.0138\n",
      "Epoch 45/45\n",
      "438/438 [==============================] - 0s 1ms/step - loss: 0.0799 - val_loss: 0.0116\n",
      "CPU times: user 1min 7s, sys: 6.05 s, total: 1min 13s\n",
      "Wall time: 57.1 s\n"
     ]
    }
   ],
   "source": [
    "%%time\n",
    "\n",
    "history_832 = model_832.fit(xtrain2, ytrain2, validation_data=(xval2,yval2), epochs=45, \n",
    "                    verbose=0)\n",
    "history_862 = model_862.fit(xtrain2, ytrain2, validation_data=(xval2,yval2), epochs=45, \n",
    "                    verbose=0)\n",
    "history_892 = model_892.fit(xtrain2, ytrain2, validation_data=(xval2,yval2), epochs=45, \n",
    "                    verbose=1)"
   ]
  },
  {
   "cell_type": "code",
   "execution_count": 19,
   "metadata": {
    "colab": {},
    "colab_type": "code",
    "id": "_Hxuel1ihV9B"
   },
   "outputs": [],
   "source": [
    "# Salvando os modelos para uso futuro\n",
    "model_432.save('../Saved_NN_Models/model_432.h5')\n",
    "model_462.save('../Saved_NN_Models/model_462.h5')\n",
    "model_492.save('../Saved_NN_Models/model_492.h5')\n",
    "model_832.save('../Saved_NN_Models/model_832.h5')\n",
    "model_862.save('../Saved_NN_Models/model_862.h5')\n",
    "model_892.save('../Saved_NN_Models/model_892.h5')\n",
    "\n",
    "# Recreando os modelos dos arquivos salvos\n",
    "# model_432 = tf.keras.models.load_model('../Saved_NN_Models/model_432.h5')\n",
    "# model_462 = tf.keras.models.load_model('../Saved_NN_Models/model_462.h5')\n",
    "# model_492 = tf.keras.models.load_model('../Saved_NN_Models/model_492.h5')\n",
    "# model_832 = tf.keras.models.load_model('../Saved_NN_Models/model_832.h5')\n",
    "# model_862 = tf.keras.models.load_model('../Saved_NN_Models/model_862.h5')\n",
    "# model_892 = tf.keras.models.load_model('../Saved_NN_Models/model_892.h5')"
   ]
  },
  {
   "cell_type": "code",
   "execution_count": 20,
   "metadata": {
    "colab": {
     "base_uri": "https://localhost:8080/",
     "height": 398
    },
    "colab_type": "code",
    "id": "gLIW60C0hV-5",
    "outputId": "d0608aea-1e7c-471a-b539-506e4c7215a1"
   },
   "outputs": [
    {
     "data": {
      "image/png": "[encoded data removed]",
      "text/plain": [
       "<Figure size 720x432 with 1 Axes>"
      ]
     },
     "metadata": {
      "needs_background": "light",
      "tags": []
     },
     "output_type": "display_data"
    }
   ],
   "source": [
    "models4 = [model_432,model_462,model_492]\n",
    "models8 = [model_832,model_862,model_892]\n",
    "history_list = [history_432,history_462,history_492,history_832,history_862,history_892]\n",
    "\n",
    "labels = [\"4-3-2\",'4-6-2','4-9-2',\"8-3-2\",'8-6-2','8-9-2']\n",
    "fig,ax = plt.subplots(1,1,figsize=(10,6))\n",
    "\n",
    "test_mse = []\n",
    "train_mse = []\n",
    "val_mse = []\n",
    "for model in models4:\n",
    "    test_mse.append(model.evaluate(xtest,ytest,verbose=0))\n",
    "for model in models8:\n",
    "    test_mse.append(model.evaluate(xtest2,ytest2,verbose=0))\n",
    "for history in history_list:\n",
    "    train_mse.append(np.mean(history.history['loss']))\n",
    "    val_mse.append(np.mean(history.history['val_loss']))\n",
    "wid = 0.8/3-0.0001\n",
    "ax.set_title(\"Perda (MSE) dos Modelos - Dados de Teste\",fontsize=16)\n",
    "ax.set_ylabel(\"MSE\",fontsize=14)\n",
    "ax.bar(np.arange(0,6)-wid,train_mse,label=\"Treino\",width = wid)\n",
    "ax.bar(np.arange(0,6),val_mse,label='Validação',width = wid)\n",
    "ax.bar(np.arange(0,6)+wid,test_mse,label = \"Teste\",width = wid)\n",
    "ax.set_xticklabels(['0']+labels,fontsize=12)\n",
    "ax.legend(loc='best',fontsize=14);\n",
    "plt.savefig('../figs/NN_Models_MSE.jpg')\n"
   ]
  },
  {
   "cell_type": "code",
   "execution_count": 21,
   "metadata": {
    "colab": {
     "base_uri": "https://localhost:8080/",
     "height": 360
    },
    "colab_type": "code",
    "id": "dffTu6MMhWAT",
    "outputId": "2aea0048-880d-47f3-e2a6-0c0c79cbd3c3"
   },
   "outputs": [
    {
     "data": {
      "text/plain": [
       "(0.012073151767253876, 0.01123854797333479)"
      ]
     },
     "execution_count": 21,
     "metadata": {
      "tags": []
     },
     "output_type": "execute_result"
    },
    {
     "data": {
      "image/png": "[encoded data removed]",
      "text/plain": [
       "<Figure size 576x360 with 1 Axes>"
      ]
     },
     "metadata": {
      "needs_background": "light",
      "tags": []
     },
     "output_type": "display_data"
    }
   ],
   "source": [
    "\n",
    "history_list = [history_492,history_892]\n",
    "\n",
    "labels = ['4-9-2','8-9-2']\n",
    "fig,ax = plt.subplots(1,1,figsize=(8,5))\n",
    "\n",
    "test_mse = []\n",
    "train_mse = []\n",
    "val_mse = []\n",
    "\n",
    "test_mse.append(model_492.evaluate(xtest,ytest,verbose=0))\n",
    "\n",
    "test_mse.append(model_892.evaluate(xtest2,ytest2,verbose=0))\n",
    "for history in history_list:\n",
    "    train_mse.append(np.mean(history.history['loss']))\n",
    "    val_mse.append(np.mean(history.history['val_loss']))\n",
    "wid = 0.8/3-0.0001\n",
    "ax.set_title(\"Perda (MSE) dos Modelos - Dados de Teste\",fontsize=16)\n",
    "ax.set_ylabel(\"MSE\",fontsize=14)\n",
    "ax.bar(np.arange(0,2)-wid,train_mse,label=\"Treino\",width = wid)\n",
    "ax.bar(np.arange(0,2),val_mse,label='Validação',width = wid)\n",
    "ax.bar(np.arange(0,2)+wid,test_mse,label = \"Teste\",width = wid)\n",
    "ax.set_xticklabels(['','','4-9-2','','','','8-9-2'],fontsize=12)\n",
    "ax.legend(loc='best',fontsize=14);\n",
    "plt.savefig('../figs/NN_Models_4vs8.jpg')\n",
    "model_492.evaluate(xtest,ytest,verbose=0),model_892.evaluate(xtest2,ytest2,verbose=0)"
   ]
  },
  {
   "cell_type": "markdown",
   "metadata": {
    "colab_type": "text",
    "id": "LaQlslz7hWBW"
   },
   "source": [
    "Vemos que os modelos 4-9-2 e 8-9-2 performaram melhor em todos os conjuntos de dados. Vemos que 9 neurônios internos performam muito bem. Vamos trabalhar com esses modelos a partir daqui. Em especial, com o 8-9-2, que teve uma menor perda nos dados de teste; Ele utiliza uma maior quantidade de informações climáticas; esses dados climáticos à mais como entrada, apesar de serem médias mensais, possuem o caráter de localização geográfica imbutido, e podem prover informações sobre o comportamento futuro da trajetória de um furacão. Abaixo também podemos ver que a convergência dos dois modelos de 9 neurônios internos é parecida. "
   ]
  },
  {
   "cell_type": "code",
   "execution_count": 22,
   "metadata": {
    "colab": {
     "base_uri": "https://localhost:8080/",
     "height": 311
    },
    "colab_type": "code",
    "id": "ouYm0jrChWBh",
    "outputId": "7407ed9c-6e82-4db0-e148-f4e6a56ae089"
   },
   "outputs": [
    {
     "data": {
      "image/png": "[encoded data removed]",
      "text/plain": [
       "<Figure size 1440x432 with 2 Axes>"
      ]
     },
     "metadata": {
      "needs_background": "light",
      "tags": []
     },
     "output_type": "display_data"
    }
   ],
   "source": [
    "# Plotando MSE para Treino e Validação\n",
    "fig, (ax,ax1) = plt.subplots(1,2, figsize=(20,6))\n",
    "\n",
    "ax.plot(history_492.history['loss'])\n",
    "ax.plot(history_492.history['val_loss'])\n",
    "ax.set_title('4-9-2 MSE',fontsize=16)\n",
    "ax.set_ylabel('MSE')\n",
    "ax.set_xlabel('epoch')\n",
    "ax.legend(['Treino', 'Validação'], fontsize=14,loc='best')\n",
    "ax1.plot(history_892.history['loss'])\n",
    "ax1.plot(history_892.history['val_loss'])\n",
    "ax1.set_title('8-9-2 MSE',fontsize = 16)\n",
    "ax1.set_ylabel('MSE')\n",
    "ax1.set_xlabel('epoch')\n",
    "ax1.legend(['Treino', 'Validação'], fontsize=14,loc='best');\n",
    "plt.savefig('../figs/MSE-epoch.jpg')"
   ]
  },
  {
   "cell_type": "code",
   "execution_count": 23,
   "metadata": {
    "colab": {
     "base_uri": "https://localhost:8080/",
     "height": 396
    },
    "colab_type": "code",
    "id": "YJc-JB9mhWC5",
    "outputId": "2bd68acd-6806-402a-eaef-0e87c8643353"
   },
   "outputs": [
    {
     "name": "stdout",
     "output_type": "stream",
     "text": [
      "R2 Latitude Teste - 0.9890722375652974\n",
      "R2 Longitude Teste - 0.9879249013965508\n",
      "R2 Total Teste - 0.9884985694809241\n"
     ]
    },
    {
     "data": {
      "image/png": "[encoded data removed]",
      "text/plain": [
       "<Figure size 1296x432 with 2 Axes>"
      ]
     },
     "metadata": {
      "needs_background": "light",
      "tags": []
     },
     "output_type": "display_data"
    }
   ],
   "source": [
    "from sklearn.metrics import r2_score\n",
    "ypred = model_892.predict(xtest2)\n",
    "\n",
    "lat_r2 = r2_score(ytest2[:,0],ypred[:,0])\n",
    "lon_r2 = r2_score(ytest2[:,1],ypred[:,1])\n",
    "tot_r2 = r2_score(ytest2,ypred)\n",
    "\n",
    "print(f\"R2 Latitude Teste - {lat_r2}\")\n",
    "print(f\"R2 Longitude Teste - {lon_r2}\")\n",
    "print(f\"R2 Total Teste - {tot_r2}\")\n",
    "\n",
    "fig, (ax,ax1) = plt.subplots(1,2,figsize=(18,6))\n",
    "ax.set_title(\"Latitude Real vs Prevista (Teste 8-9-2)\",fontsize=16)\n",
    "ax.set_xlabel(\"Real\",fontsize = 13)\n",
    "ax.set_ylabel(\"Prevista\",fontsize = 13)\n",
    "ax.scatter(ytest2[:,0],ypred[:,0],alpha = 0.75, color = 'g',label = f\"R2 = {round(lat_r2,3)}\")\n",
    "ax.legend(loc='best', fontsize = 13)\n",
    "ax1.set_title(\"Longitude Real vs Prevista (Teste 8-9-2)\",fontsize=16)\n",
    "ax1.set_xlabel(\"Real\",fontsize = 13)\n",
    "ax1.set_ylabel(\"Prevista\",fontsize = 13)\n",
    "ax1.scatter(ytest2[:,1],ypred[:,1],alpha = 0.75, color = 'g',label = f\"R2 = {round(lon_r2,3)}\")\n",
    "ax1.legend(loc='best', fontsize = 13);\n",
    "plt.savefig('../figs/lat_lon_teste.jpg')"
   ]
  },
  {
   "cell_type": "markdown",
   "metadata": {
    "colab_type": "text",
    "id": "KqT8zs2JhWEu"
   },
   "source": [
    "Nos dados de teste, temos resultados muito bons! Abaixo vemos um esquema do modelo 8-9-2."
   ]
  },
  {
   "cell_type": "code",
   "execution_count": 24,
   "metadata": {
    "colab": {
     "base_uri": "https://localhost:8080/",
     "height": 533
    },
    "colab_type": "code",
    "id": "n5-x4VHhhWFC",
    "outputId": "69dabf57-62e1-46d9-ff76-5cdd2292c781"
   },
   "outputs": [
    {
     "data": {
      "image/png": "[encoded data removed]",
      "text/plain": [
       "<IPython.core.display.Image object>"
      ]
     },
     "execution_count": 24,
     "metadata": {
      "tags": []
     },
     "output_type": "execute_result"
    }
   ],
   "source": [
    "tf.keras.utils.plot_model(\n",
    "    model_892,\n",
    "    to_file='../figs/model_892.png', \n",
    "    show_shapes=True, \n",
    "    show_layer_names=True,\n",
    "    rankdir='TB',\n",
    "    expand_nested=False,\n",
    "    dpi=96\n",
    ")\n",
    "# plt.savefig('figs/model892.jpg')"
   ]
  },
  {
   "cell_type": "markdown",
   "metadata": {
    "colab_type": "text",
    "id": "zoqVEp3ghWGJ"
   },
   "source": [
    "## Previsões\n",
    "\n",
    "Vamos testar a previsão para algumas tempestades específicas do conjunto de testes."
   ]
  },
  {
   "cell_type": "code",
   "execution_count": 25,
   "metadata": {
    "colab": {
     "base_uri": "https://localhost:8080/",
     "height": 330
    },
    "colab_type": "code",
    "id": "gcTDFP6LhWGY",
    "outputId": "d3f18ab0-18ba-4780-ae9d-5435036fd520"
   },
   "outputs": [
    {
     "data": {
      "text/html": [
       "<div>\n",
       "<style scoped>\n",
       "    .dataframe tbody tr th:only-of-type {\n",
       "        vertical-align: middle;\n",
       "    }\n",
       "\n",
       "    .dataframe tbody tr th {\n",
       "        vertical-align: top;\n",
       "    }\n",
       "\n",
       "    .dataframe thead th {\n",
       "        text-align: right;\n",
       "    }\n",
       "</style>\n",
       "<table border=\"1\" class=\"dataframe\">\n",
       "  <thead>\n",
       "    <tr style=\"text-align: right;\">\n",
       "      <th></th>\n",
       "      <th>ID</th>\n",
       "      <th>Name</th>\n",
       "      <th>Date</th>\n",
       "      <th>Time</th>\n",
       "      <th>Event</th>\n",
       "      <th>Status</th>\n",
       "      <th>Latitude</th>\n",
       "      <th>Longitude</th>\n",
       "      <th>Maximum Wind</th>\n",
       "      <th>Minimum Pressure</th>\n",
       "      <th>Date_c</th>\n",
       "      <th>Year</th>\n",
       "      <th>Month</th>\n",
       "      <th>Day</th>\n",
       "      <th>Latitude_c</th>\n",
       "      <th>Longitude_c</th>\n",
       "      <th>Duration</th>\n",
       "      <th>sst</th>\n",
       "      <th>rhum</th>\n",
       "      <th>wspd</th>\n",
       "      <th>slp</th>\n",
       "      <th>cldc</th>\n",
       "      <th>Time_new</th>\n",
       "      <th>Hours</th>\n",
       "    </tr>\n",
       "  </thead>\n",
       "  <tbody>\n",
       "    <tr>\n",
       "      <th>20259</th>\n",
       "      <td>AL022011</td>\n",
       "      <td>BRET</td>\n",
       "      <td>2011-07-16</td>\n",
       "      <td>600</td>\n",
       "      <td>NaN</td>\n",
       "      <td>LO</td>\n",
       "      <td>30.7</td>\n",
       "      <td>-79.7</td>\n",
       "      <td>20</td>\n",
       "      <td>1014</td>\n",
       "      <td>2011-07-16</td>\n",
       "      <td>2011</td>\n",
       "      <td>7</td>\n",
       "      <td>16</td>\n",
       "      <td>30.7</td>\n",
       "      <td>-79.7</td>\n",
       "      <td>7</td>\n",
       "      <td>29.212346</td>\n",
       "      <td>81.503754</td>\n",
       "      <td>81.503754</td>\n",
       "      <td>1003.891696</td>\n",
       "      <td>4.721866</td>\n",
       "      <td>2011-07-16 06:00:00</td>\n",
       "      <td>530670.0</td>\n",
       "    </tr>\n",
       "    <tr>\n",
       "      <th>20260</th>\n",
       "      <td>AL022011</td>\n",
       "      <td>BRET</td>\n",
       "      <td>2011-07-16</td>\n",
       "      <td>1200</td>\n",
       "      <td>NaN</td>\n",
       "      <td>LO</td>\n",
       "      <td>30.3</td>\n",
       "      <td>-79.4</td>\n",
       "      <td>20</td>\n",
       "      <td>1014</td>\n",
       "      <td>2011-07-16</td>\n",
       "      <td>2011</td>\n",
       "      <td>7</td>\n",
       "      <td>16</td>\n",
       "      <td>30.3</td>\n",
       "      <td>-79.4</td>\n",
       "      <td>7</td>\n",
       "      <td>29.212489</td>\n",
       "      <td>81.512076</td>\n",
       "      <td>81.512076</td>\n",
       "      <td>1003.897948</td>\n",
       "      <td>4.720945</td>\n",
       "      <td>2011-07-16 12:00:00</td>\n",
       "      <td>530676.0</td>\n",
       "    </tr>\n",
       "    <tr>\n",
       "      <th>20261</th>\n",
       "      <td>AL022011</td>\n",
       "      <td>BRET</td>\n",
       "      <td>2011-07-16</td>\n",
       "      <td>1800</td>\n",
       "      <td>NaN</td>\n",
       "      <td>LO</td>\n",
       "      <td>29.8</td>\n",
       "      <td>-79.1</td>\n",
       "      <td>20</td>\n",
       "      <td>1014</td>\n",
       "      <td>2011-07-16</td>\n",
       "      <td>2011</td>\n",
       "      <td>7</td>\n",
       "      <td>16</td>\n",
       "      <td>29.8</td>\n",
       "      <td>-79.1</td>\n",
       "      <td>7</td>\n",
       "      <td>29.141944</td>\n",
       "      <td>82.018334</td>\n",
       "      <td>82.018334</td>\n",
       "      <td>1005.045524</td>\n",
       "      <td>4.940012</td>\n",
       "      <td>2011-07-16 18:00:00</td>\n",
       "      <td>530682.0</td>\n",
       "    </tr>\n",
       "    <tr>\n",
       "      <th>20262</th>\n",
       "      <td>AL022011</td>\n",
       "      <td>BRET</td>\n",
       "      <td>2011-07-17</td>\n",
       "      <td>0</td>\n",
       "      <td>NaN</td>\n",
       "      <td>LO</td>\n",
       "      <td>29.3</td>\n",
       "      <td>-78.8</td>\n",
       "      <td>20</td>\n",
       "      <td>1014</td>\n",
       "      <td>2011-07-17</td>\n",
       "      <td>2011</td>\n",
       "      <td>7</td>\n",
       "      <td>17</td>\n",
       "      <td>29.3</td>\n",
       "      <td>-78.8</td>\n",
       "      <td>7</td>\n",
       "      <td>28.998422</td>\n",
       "      <td>82.957671</td>\n",
       "      <td>82.957671</td>\n",
       "      <td>1005.403854</td>\n",
       "      <td>4.952418</td>\n",
       "      <td>2011-07-17 00:00:00</td>\n",
       "      <td>530688.0</td>\n",
       "    </tr>\n",
       "    <tr>\n",
       "      <th>20263</th>\n",
       "      <td>AL022011</td>\n",
       "      <td>BRET</td>\n",
       "      <td>2011-07-17</td>\n",
       "      <td>600</td>\n",
       "      <td>NaN</td>\n",
       "      <td>LO</td>\n",
       "      <td>28.8</td>\n",
       "      <td>-78.5</td>\n",
       "      <td>20</td>\n",
       "      <td>1014</td>\n",
       "      <td>2011-07-17</td>\n",
       "      <td>2011</td>\n",
       "      <td>7</td>\n",
       "      <td>17</td>\n",
       "      <td>28.8</td>\n",
       "      <td>-78.5</td>\n",
       "      <td>7</td>\n",
       "      <td>28.999376</td>\n",
       "      <td>82.953919</td>\n",
       "      <td>82.953919</td>\n",
       "      <td>1005.405851</td>\n",
       "      <td>4.950652</td>\n",
       "      <td>2011-07-17 06:00:00</td>\n",
       "      <td>530694.0</td>\n",
       "    </tr>\n",
       "  </tbody>\n",
       "</table>\n",
       "</div>"
      ],
      "text/plain": [
       "             ID  Name       Date  ...      cldc            Time_new     Hours\n",
       "20259  AL022011  BRET 2011-07-16  ...  4.721866 2011-07-16 06:00:00  530670.0\n",
       "20260  AL022011  BRET 2011-07-16  ...  4.720945 2011-07-16 12:00:00  530676.0\n",
       "20261  AL022011  BRET 2011-07-16  ...  4.940012 2011-07-16 18:00:00  530682.0\n",
       "20262  AL022011  BRET 2011-07-17  ...  4.952418 2011-07-17 00:00:00  530688.0\n",
       "20263  AL022011  BRET 2011-07-17  ...  4.950652 2011-07-17 06:00:00  530694.0\n",
       "\n",
       "[5 rows x 24 columns]"
      ]
     },
     "execution_count": 25,
     "metadata": {
      "tags": []
     },
     "output_type": "execute_result"
    }
   ],
   "source": [
    "splitted_data = split(data)\n",
    "n = len(splitted_data)\n",
    "test_storms = splitted_data[int(n*(0.9)):]\n",
    "data_test = pd.concat(test_storms)\n",
    "data_test.loc[:,'Hours'] = (data_test.loc[:,'Time_new']-pd.Timestamp(1951,1,1))/pd.Timedelta('1 hour')\n",
    "data_test.head()"
   ]
  },
  {
   "cell_type": "code",
   "execution_count": 32,
   "metadata": {
    "colab": {},
    "colab_type": "code",
    "id": "0npNyW1MhWHV"
   },
   "outputs": [],
   "source": [
    "import warnings\n",
    "warnings.simplefilter(\"ignore\")\n",
    "def predict(storm,model,shift=3,pred=1):\n",
    "    storm = storm.set_index(np.arange(0,len(storm)))\n",
    "    y_pred=[]\n",
    "    for i in range(0,len(storm)-shift-1):\n",
    "        x = []\n",
    "        for j in range(i,i+shift):\n",
    "            x.append(storm.loc[j,:])\n",
    "#         if i == 0:\n",
    "#             print(np.expand_dims(np.asarray(x), axis=0).shape)\n",
    "#             print(np.expand_dims(np.asarray(x),axis=0)[0,0,0])\n",
    "        y_pred.append(model.predict(np.expand_dims(np.asarray(x),axis=0)).ravel())\n",
    "        del x\n",
    "    return np.array(y_pred)\n",
    "def predict_storm(ID):\n",
    "    name = data_test[data_test.ID==ID].Name.iloc[0]\n",
    "    year = data_test[data_test.ID==ID].Year.iloc[0]\n",
    "    storm = data_test[data_test.ID==ID]\n",
    "    storm.loc[:,cols2]=standard_scale(storm,cols2)\n",
    "    st = storm.loc[:,cols2]\n",
    "    st_pred = predict(st,model_892)\n",
    "    st_plot = st.iloc[0:-4,:]\n",
    "    \n",
    "    fig,ax = plt.subplots(1,2,figsize=(10,4))\n",
    "    fig.suptitle(f\"Furacão {name} - {year}\", fontsize=16,y=1.08)\n",
    "    ax[0].set_title(\"Latitude\")\n",
    "    ax[1].set_title(\"Longitude\")\n",
    "    print(r2_score(st_plot.Latitude,st_pred[:,0]))\n",
    "    print(r2_score(st_plot.Longitude,st_pred[:,1]))\n",
    "    ax[0].scatter(st_plot.Hours,st_plot.Latitude,label = 'Real')\n",
    "    ax[0].scatter(st_plot.Hours,st_pred[:,0],label = 'Previsto')\n",
    "    ax[1].scatter(st_plot.Hours,st_plot.Longitude,label = 'Real')\n",
    "    ax[1].scatter(st_plot.Hours,st_pred[:,1],label = 'Previsto')\n",
    "    ax[0].legend(loc='best')\n",
    "    ax[1].legend(loc='best')\n",
    "    plt.savefig(f\"../figs/NN-{name}.jpg\")"
   ]
  },
  {
   "cell_type": "code",
   "execution_count": 33,
   "metadata": {
    "colab": {
     "base_uri": "https://localhost:8080/",
     "height": 360
    },
    "colab_type": "code",
    "id": "sqy9lWY6hWID",
    "outputId": "38f03b91-b1cc-4e15-b4a9-fe9da9ff4e23"
   },
   "outputs": [
    {
     "name": "stdout",
     "output_type": "stream",
     "text": [
      "0.912396866066715\n",
      "0.8587266243812284\n"
     ]
    },
    {
     "data": {
      "image/png": "[encoded data removed]",
      "text/plain": [
       "<Figure size 720x288 with 2 Axes>"
      ]
     },
     "metadata": {
      "needs_background": "light",
      "tags": []
     },
     "output_type": "display_data"
    }
   ],
   "source": [
    "predict_storm('AL092011')"
   ]
  },
  {
   "cell_type": "code",
   "execution_count": 34,
   "metadata": {
    "colab": {
     "base_uri": "https://localhost:8080/",
     "height": 360
    },
    "colab_type": "code",
    "id": "UZ_1fd5ohWJT",
    "outputId": "822a248c-7a01-4f67-e44e-c6d5b0575126"
   },
   "outputs": [
    {
     "name": "stdout",
     "output_type": "stream",
     "text": [
      "0.9650855905600251\n",
      "0.9805961966628389\n"
     ]
    },
    {
     "data": {
      "image/png": "[encoded data removed]",
      "text/plain": [
       "<Figure size 720x288 with 2 Axes>"
      ]
     },
     "metadata": {
      "needs_background": "light",
      "tags": []
     },
     "output_type": "display_data"
    }
   ],
   "source": [
    "predict_storm('AL112015')"
   ]
  },
  {
   "cell_type": "code",
   "execution_count": null,
   "metadata": {
    "colab": {},
    "colab_type": "code",
    "id": "CRkIVrEwhWKI"
   },
   "outputs": [],
   "source": [
    "# data_test[(data_test.Duration>7)&(data_test.Name!=\"IRENE\")&(data_test.Name!=\"JOAQUIN\")].sort_values(by='Maximum Wind',ascending=0)"
   ]
  },
  {
   "cell_type": "code",
   "execution_count": 35,
   "metadata": {
    "colab": {
     "base_uri": "https://localhost:8080/",
     "height": 360
    },
    "colab_type": "code",
    "id": "wdLizaevhWLF",
    "outputId": "7e94fd34-cd2d-4ce7-ba1a-11597a0f0abb"
   },
   "outputs": [
    {
     "name": "stdout",
     "output_type": "stream",
     "text": [
      "0.9235033244762332\n",
      "0.8633440966820972\n"
     ]
    },
    {
     "data": {
      "image/png": "[encoded data removed]",
      "text/plain": [
       "<Figure size 720x288 with 2 Axes>"
      ]
     },
     "metadata": {
      "needs_background": "light",
      "tags": []
     },
     "output_type": "display_data"
    }
   ],
   "source": [
    "predict_storm('AL122011')"
   ]
  }
 ],
 "metadata": {
  "colab": {
   "collapsed_sections": [],
   "name": "NN-TrackPrediction.ipynb",
   "provenance": []
  },
  "kernelspec": {
   "display_name": "Python 3",
   "language": "python",
   "name": "python3"
  },
  "language_info": {
   "codemirror_mode": {
    "name": "ipython",
    "version": 3
   },
   "file_extension": ".py",
   "mimetype": "text/x-python",
   "name": "python",
   "nbconvert_exporter": "python",
   "pygments_lexer": "ipython3",
   "version": "3.8.3"
  }
 },
 "nbformat": 4,
 "nbformat_minor": 1
}
